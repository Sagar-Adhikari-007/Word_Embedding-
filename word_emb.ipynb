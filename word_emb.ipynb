{
  "nbformat": 4,
  "nbformat_minor": 0,
  "metadata": {
    "colab": {
      "name": "word_emb.ipynb",
      "provenance": [],
      "authorship_tag": "ABX9TyMFA5HLd2o5UJ0K0mgf7ChN",
      "include_colab_link": true
    },
    "kernelspec": {
      "name": "python3",
      "display_name": "Python 3"
    },
    "language_info": {
      "name": "python"
    }
  },
  "cells": [
    {
      "cell_type": "markdown",
      "metadata": {
        "id": "view-in-github",
        "colab_type": "text"
      },
      "source": [
        "<a href=\"https://colab.research.google.com/github/Sagaradhikari69/Word_Embedding-/blob/main/word_emb.ipynb\" target=\"_parent\"><img src=\"https://colab.research.google.com/assets/colab-badge.svg\" alt=\"Open In Colab\"/></a>"
      ]
    },
    {
      "cell_type": "code",
      "metadata": {
        "colab": {
          "base_uri": "https://localhost:8080/"
        },
        "id": "vJRYs78jMLr5",
        "outputId": "ba886514-5bd8-408d-f409-866c7314b8a8"
      },
      "source": [
        "!pip install tensorflow"
      ],
      "execution_count": 2,
      "outputs": [
        {
          "output_type": "stream",
          "text": [
            "Requirement already satisfied: tensorflow in /usr/local/lib/python3.7/dist-packages (2.5.0)\n",
            "Requirement already satisfied: typing-extensions~=3.7.4 in /usr/local/lib/python3.7/dist-packages (from tensorflow) (3.7.4.3)\n",
            "Requirement already satisfied: protobuf>=3.9.2 in /usr/local/lib/python3.7/dist-packages (from tensorflow) (3.17.3)\n",
            "Requirement already satisfied: grpcio~=1.34.0 in /usr/local/lib/python3.7/dist-packages (from tensorflow) (1.34.1)\n",
            "Requirement already satisfied: tensorflow-estimator<2.6.0,>=2.5.0rc0 in /usr/local/lib/python3.7/dist-packages (from tensorflow) (2.5.0)\n",
            "Requirement already satisfied: numpy~=1.19.2 in /usr/local/lib/python3.7/dist-packages (from tensorflow) (1.19.5)\n",
            "Requirement already satisfied: six~=1.15.0 in /usr/local/lib/python3.7/dist-packages (from tensorflow) (1.15.0)\n",
            "Requirement already satisfied: keras-nightly~=2.5.0.dev in /usr/local/lib/python3.7/dist-packages (from tensorflow) (2.5.0.dev2021032900)\n",
            "Requirement already satisfied: opt-einsum~=3.3.0 in /usr/local/lib/python3.7/dist-packages (from tensorflow) (3.3.0)\n",
            "Requirement already satisfied: keras-preprocessing~=1.1.2 in /usr/local/lib/python3.7/dist-packages (from tensorflow) (1.1.2)\n",
            "Requirement already satisfied: tensorboard~=2.5 in /usr/local/lib/python3.7/dist-packages (from tensorflow) (2.5.0)\n",
            "Requirement already satisfied: flatbuffers~=1.12.0 in /usr/local/lib/python3.7/dist-packages (from tensorflow) (1.12)\n",
            "Requirement already satisfied: absl-py~=0.10 in /usr/local/lib/python3.7/dist-packages (from tensorflow) (0.12.0)\n",
            "Requirement already satisfied: h5py~=3.1.0 in /usr/local/lib/python3.7/dist-packages (from tensorflow) (3.1.0)\n",
            "Requirement already satisfied: wheel~=0.35 in /usr/local/lib/python3.7/dist-packages (from tensorflow) (0.36.2)\n",
            "Requirement already satisfied: google-pasta~=0.2 in /usr/local/lib/python3.7/dist-packages (from tensorflow) (0.2.0)\n",
            "Requirement already satisfied: wrapt~=1.12.1 in /usr/local/lib/python3.7/dist-packages (from tensorflow) (1.12.1)\n",
            "Requirement already satisfied: termcolor~=1.1.0 in /usr/local/lib/python3.7/dist-packages (from tensorflow) (1.1.0)\n",
            "Requirement already satisfied: gast==0.4.0 in /usr/local/lib/python3.7/dist-packages (from tensorflow) (0.4.0)\n",
            "Requirement already satisfied: astunparse~=1.6.3 in /usr/local/lib/python3.7/dist-packages (from tensorflow) (1.6.3)\n",
            "Requirement already satisfied: cached-property in /usr/local/lib/python3.7/dist-packages (from h5py~=3.1.0->tensorflow) (1.5.2)\n",
            "Requirement already satisfied: requests<3,>=2.21.0 in /usr/local/lib/python3.7/dist-packages (from tensorboard~=2.5->tensorflow) (2.23.0)\n",
            "Requirement already satisfied: tensorboard-data-server<0.7.0,>=0.6.0 in /usr/local/lib/python3.7/dist-packages (from tensorboard~=2.5->tensorflow) (0.6.1)\n",
            "Requirement already satisfied: google-auth-oauthlib<0.5,>=0.4.1 in /usr/local/lib/python3.7/dist-packages (from tensorboard~=2.5->tensorflow) (0.4.4)\n",
            "Requirement already satisfied: werkzeug>=0.11.15 in /usr/local/lib/python3.7/dist-packages (from tensorboard~=2.5->tensorflow) (1.0.1)\n",
            "Requirement already satisfied: markdown>=2.6.8 in /usr/local/lib/python3.7/dist-packages (from tensorboard~=2.5->tensorflow) (3.3.4)\n",
            "Requirement already satisfied: setuptools>=41.0.0 in /usr/local/lib/python3.7/dist-packages (from tensorboard~=2.5->tensorflow) (57.2.0)\n",
            "Requirement already satisfied: google-auth<2,>=1.6.3 in /usr/local/lib/python3.7/dist-packages (from tensorboard~=2.5->tensorflow) (1.32.1)\n",
            "Requirement already satisfied: tensorboard-plugin-wit>=1.6.0 in /usr/local/lib/python3.7/dist-packages (from tensorboard~=2.5->tensorflow) (1.8.0)\n",
            "Requirement already satisfied: pyasn1-modules>=0.2.1 in /usr/local/lib/python3.7/dist-packages (from google-auth<2,>=1.6.3->tensorboard~=2.5->tensorflow) (0.2.8)\n",
            "Requirement already satisfied: rsa<5,>=3.1.4 in /usr/local/lib/python3.7/dist-packages (from google-auth<2,>=1.6.3->tensorboard~=2.5->tensorflow) (4.7.2)\n",
            "Requirement already satisfied: cachetools<5.0,>=2.0.0 in /usr/local/lib/python3.7/dist-packages (from google-auth<2,>=1.6.3->tensorboard~=2.5->tensorflow) (4.2.2)\n",
            "Requirement already satisfied: requests-oauthlib>=0.7.0 in /usr/local/lib/python3.7/dist-packages (from google-auth-oauthlib<0.5,>=0.4.1->tensorboard~=2.5->tensorflow) (1.3.0)\n",
            "Requirement already satisfied: importlib-metadata in /usr/local/lib/python3.7/dist-packages (from markdown>=2.6.8->tensorboard~=2.5->tensorflow) (4.6.1)\n",
            "Requirement already satisfied: pyasn1<0.5.0,>=0.4.6 in /usr/local/lib/python3.7/dist-packages (from pyasn1-modules>=0.2.1->google-auth<2,>=1.6.3->tensorboard~=2.5->tensorflow) (0.4.8)\n",
            "Requirement already satisfied: urllib3!=1.25.0,!=1.25.1,<1.26,>=1.21.1 in /usr/local/lib/python3.7/dist-packages (from requests<3,>=2.21.0->tensorboard~=2.5->tensorflow) (1.24.3)\n",
            "Requirement already satisfied: chardet<4,>=3.0.2 in /usr/local/lib/python3.7/dist-packages (from requests<3,>=2.21.0->tensorboard~=2.5->tensorflow) (3.0.4)\n",
            "Requirement already satisfied: idna<3,>=2.5 in /usr/local/lib/python3.7/dist-packages (from requests<3,>=2.21.0->tensorboard~=2.5->tensorflow) (2.10)\n",
            "Requirement already satisfied: certifi>=2017.4.17 in /usr/local/lib/python3.7/dist-packages (from requests<3,>=2.21.0->tensorboard~=2.5->tensorflow) (2021.5.30)\n",
            "Requirement already satisfied: oauthlib>=3.0.0 in /usr/local/lib/python3.7/dist-packages (from requests-oauthlib>=0.7.0->google-auth-oauthlib<0.5,>=0.4.1->tensorboard~=2.5->tensorflow) (3.1.1)\n",
            "Requirement already satisfied: zipp>=0.5 in /usr/local/lib/python3.7/dist-packages (from importlib-metadata->markdown>=2.6.8->tensorboard~=2.5->tensorflow) (3.5.0)\n"
          ],
          "name": "stdout"
        }
      ]
    },
    {
      "cell_type": "code",
      "metadata": {
        "colab": {
          "base_uri": "https://localhost:8080/"
        },
        "id": "-7asuXgxMR1s",
        "outputId": "2131c1d6-7f02-4394-be61-e200974c993c"
      },
      "source": [
        "import tensorflow as tf\n",
        "print (tf.__version__)"
      ],
      "execution_count": 3,
      "outputs": [
        {
          "output_type": "stream",
          "text": [
            "2.5.0\n"
          ],
          "name": "stdout"
        }
      ]
    },
    {
      "cell_type": "markdown",
      "metadata": {
        "id": "dI4maLmXOaoY"
      },
      "source": [
        "\n",
        "## ***Word Embedding Techniques using Embedding Layer in Keras***\n"
      ]
    },
    {
      "cell_type": "code",
      "metadata": {
        "id": "IE_0sAF_MjV-"
      },
      "source": [
        "from tensorflow.keras.preprocessing.text import one_hot"
      ],
      "execution_count": 4,
      "outputs": []
    },
    {
      "cell_type": "code",
      "metadata": {
        "id": "pjSGF1NPOGYS"
      },
      "source": [
        "sent=[  'the glass of milk',\n",
        "     'the glass of juice',\n",
        "     'the cup of tea',\n",
        "    'I am a good boy',\n",
        "     'I am a good developer',\n",
        "     'understand the meaning of words',\n",
        "     'your videos are good',]"
      ],
      "execution_count": 5,
      "outputs": []
    },
    {
      "cell_type": "code",
      "metadata": {
        "colab": {
          "base_uri": "https://localhost:8080/"
        },
        "id": "VjKfDVOUOKYY",
        "outputId": "c7b68414-0fee-4620-cbe9-214017e98a5f"
      },
      "source": [
        "sent"
      ],
      "execution_count": 6,
      "outputs": [
        {
          "output_type": "execute_result",
          "data": {
            "text/plain": [
              "['the glass of milk',\n",
              " 'the glass of juice',\n",
              " 'the cup of tea',\n",
              " 'I am a good boy',\n",
              " 'I am a good developer',\n",
              " 'understand the meaning of words',\n",
              " 'your videos are good']"
            ]
          },
          "metadata": {
            "tags": []
          },
          "execution_count": 6
        }
      ]
    },
    {
      "cell_type": "code",
      "metadata": {
        "id": "ALN9rZvWOLM_"
      },
      "source": [
        "### Vocabulary size\n",
        "voc_size=10000"
      ],
      "execution_count": 7,
      "outputs": []
    },
    {
      "cell_type": "code",
      "metadata": {
        "colab": {
          "base_uri": "https://localhost:8080/"
        },
        "id": "LLhVk-5kPAIC",
        "outputId": "6745ebf2-2110-4891-a8c7-3c4139d093a0"
      },
      "source": [
        "onehot_repr=[one_hot(words,voc_size)for words in sent] \n",
        "print(onehot_repr)"
      ],
      "execution_count": 8,
      "outputs": [
        {
          "output_type": "stream",
          "text": [
            "[[3074, 7181, 2635, 2984], [3074, 7181, 2635, 7588], [3074, 8443, 2635, 2850], [6529, 6319, 6667, 6651, 3298], [6529, 6319, 6667, 6651, 9853], [6083, 3074, 7124, 2635, 987], [1940, 271, 9235, 6651]]\n"
          ],
          "name": "stdout"
        }
      ]
    },
    {
      "cell_type": "code",
      "metadata": {
        "id": "_CITPR7HPC47"
      },
      "source": [
        ""
      ],
      "execution_count": null,
      "outputs": []
    },
    {
      "cell_type": "markdown",
      "metadata": {
        "id": "lqhGt0SBPHVN"
      },
      "source": [
        "### Word Embedding Represntation"
      ]
    },
    {
      "cell_type": "code",
      "metadata": {
        "id": "1ssINME8PN90"
      },
      "source": [
        "from tensorflow.keras.layers import Embedding\n",
        "from tensorflow.keras.preprocessing.sequence import pad_sequences\n",
        "from tensorflow.keras.models import Sequential"
      ],
      "execution_count": 9,
      "outputs": []
    },
    {
      "cell_type": "code",
      "metadata": {
        "id": "PN0g-LJtPRaW"
      },
      "source": [
        "import numpy as np"
      ],
      "execution_count": 10,
      "outputs": []
    },
    {
      "cell_type": "code",
      "metadata": {
        "colab": {
          "base_uri": "https://localhost:8080/"
        },
        "id": "GLBaPhYSPV8n",
        "outputId": "7208b5bb-ebba-4a6c-c31b-8f13ce99981f"
      },
      "source": [
        "sent_length=8\n",
        "embedded_docs=pad_sequences(onehot_repr,padding='pre',maxlen=sent_length)\n",
        "print(embedded_docs)"
      ],
      "execution_count": 11,
      "outputs": [
        {
          "output_type": "stream",
          "text": [
            "[[   0    0    0    0 3074 7181 2635 2984]\n",
            " [   0    0    0    0 3074 7181 2635 7588]\n",
            " [   0    0    0    0 3074 8443 2635 2850]\n",
            " [   0    0    0 6529 6319 6667 6651 3298]\n",
            " [   0    0    0 6529 6319 6667 6651 9853]\n",
            " [   0    0    0 6083 3074 7124 2635  987]\n",
            " [   0    0    0    0 1940  271 9235 6651]]\n"
          ],
          "name": "stdout"
        }
      ]
    },
    {
      "cell_type": "code",
      "metadata": {
        "id": "yWVQ_sufPYRM"
      },
      "source": [
        "dim=10"
      ],
      "execution_count": 12,
      "outputs": []
    },
    {
      "cell_type": "code",
      "metadata": {
        "id": "R8RCExkMPbMx"
      },
      "source": [
        "model=Sequential()\n",
        "model.add(Embedding(voc_size,10,input_length=sent_length))\n",
        "model.compile('adam','mse')"
      ],
      "execution_count": 13,
      "outputs": []
    },
    {
      "cell_type": "code",
      "metadata": {
        "colab": {
          "base_uri": "https://localhost:8080/"
        },
        "id": "NhTEMHRdPdyT",
        "outputId": "18dfd19c-2f6c-4ce5-ade1-e0c9205fab81"
      },
      "source": [
        "model.summary()"
      ],
      "execution_count": 15,
      "outputs": [
        {
          "output_type": "stream",
          "text": [
            "Model: \"sequential\"\n",
            "_________________________________________________________________\n",
            "Layer (type)                 Output Shape              Param #   \n",
            "=================================================================\n",
            "embedding (Embedding)        (None, 8, 10)             100000    \n",
            "=================================================================\n",
            "Total params: 100,000\n",
            "Trainable params: 100,000\n",
            "Non-trainable params: 0\n",
            "_________________________________________________________________\n"
          ],
          "name": "stdout"
        }
      ]
    },
    {
      "cell_type": "code",
      "metadata": {
        "colab": {
          "base_uri": "https://localhost:8080/"
        },
        "id": "tneV8sXaPgzI",
        "outputId": "b0ba21a1-3dac-45e7-da19-4043a42f562a"
      },
      "source": [
        "print(model.predict(embedded_docs))"
      ],
      "execution_count": 16,
      "outputs": [
        {
          "output_type": "stream",
          "text": [
            "[[[-2.2124385e-02  4.2207446e-02  2.6479747e-02  1.9291792e-02\n",
            "   -3.9991725e-02  9.1109164e-03 -7.2978735e-03 -2.9052794e-02\n",
            "   -3.0759776e-02  4.0141966e-02]\n",
            "  [-2.2124385e-02  4.2207446e-02  2.6479747e-02  1.9291792e-02\n",
            "   -3.9991725e-02  9.1109164e-03 -7.2978735e-03 -2.9052794e-02\n",
            "   -3.0759776e-02  4.0141966e-02]\n",
            "  [-2.2124385e-02  4.2207446e-02  2.6479747e-02  1.9291792e-02\n",
            "   -3.9991725e-02  9.1109164e-03 -7.2978735e-03 -2.9052794e-02\n",
            "   -3.0759776e-02  4.0141966e-02]\n",
            "  [-2.2124385e-02  4.2207446e-02  2.6479747e-02  1.9291792e-02\n",
            "   -3.9991725e-02  9.1109164e-03 -7.2978735e-03 -2.9052794e-02\n",
            "   -3.0759776e-02  4.0141966e-02]\n",
            "  [-3.7211619e-02 -1.2861550e-02  2.9930104e-02 -3.0446708e-02\n",
            "    4.6413530e-02  6.8475716e-03  3.3115853e-02 -3.3634417e-03\n",
            "    3.2264702e-03 -2.9641449e-02]\n",
            "  [-1.4811896e-02  2.9202554e-02 -1.6647458e-02 -2.4140954e-02\n",
            "    4.3156866e-02 -1.5297007e-02  2.9159036e-02  2.4654534e-02\n",
            "    4.9606148e-02  2.7417507e-02]\n",
            "  [-3.4299813e-02  4.8785914e-02  4.9072694e-02  4.8863802e-02\n",
            "   -4.2642333e-02 -4.2322986e-03  8.3772913e-03  4.1842069e-02\n",
            "    1.6680185e-02 -1.3915077e-03]\n",
            "  [ 1.0649599e-02 -4.5620095e-02 -6.6748634e-03  4.0197577e-02\n",
            "    3.2765184e-02 -3.0568743e-02 -3.8506400e-02  3.0257527e-02\n",
            "    2.5943968e-02  2.2668839e-03]]\n",
            "\n",
            " [[-2.2124385e-02  4.2207446e-02  2.6479747e-02  1.9291792e-02\n",
            "   -3.9991725e-02  9.1109164e-03 -7.2978735e-03 -2.9052794e-02\n",
            "   -3.0759776e-02  4.0141966e-02]\n",
            "  [-2.2124385e-02  4.2207446e-02  2.6479747e-02  1.9291792e-02\n",
            "   -3.9991725e-02  9.1109164e-03 -7.2978735e-03 -2.9052794e-02\n",
            "   -3.0759776e-02  4.0141966e-02]\n",
            "  [-2.2124385e-02  4.2207446e-02  2.6479747e-02  1.9291792e-02\n",
            "   -3.9991725e-02  9.1109164e-03 -7.2978735e-03 -2.9052794e-02\n",
            "   -3.0759776e-02  4.0141966e-02]\n",
            "  [-2.2124385e-02  4.2207446e-02  2.6479747e-02  1.9291792e-02\n",
            "   -3.9991725e-02  9.1109164e-03 -7.2978735e-03 -2.9052794e-02\n",
            "   -3.0759776e-02  4.0141966e-02]\n",
            "  [-3.7211619e-02 -1.2861550e-02  2.9930104e-02 -3.0446708e-02\n",
            "    4.6413530e-02  6.8475716e-03  3.3115853e-02 -3.3634417e-03\n",
            "    3.2264702e-03 -2.9641449e-02]\n",
            "  [-1.4811896e-02  2.9202554e-02 -1.6647458e-02 -2.4140954e-02\n",
            "    4.3156866e-02 -1.5297007e-02  2.9159036e-02  2.4654534e-02\n",
            "    4.9606148e-02  2.7417507e-02]\n",
            "  [-3.4299813e-02  4.8785914e-02  4.9072694e-02  4.8863802e-02\n",
            "   -4.2642333e-02 -4.2322986e-03  8.3772913e-03  4.1842069e-02\n",
            "    1.6680185e-02 -1.3915077e-03]\n",
            "  [-4.8657283e-03  3.8853142e-02  4.8683669e-02  1.5990507e-02\n",
            "    1.7658088e-02  4.4843350e-02  3.8266648e-02  4.4806663e-02\n",
            "   -2.8726770e-02 -2.9495537e-02]]\n",
            "\n",
            " [[-2.2124385e-02  4.2207446e-02  2.6479747e-02  1.9291792e-02\n",
            "   -3.9991725e-02  9.1109164e-03 -7.2978735e-03 -2.9052794e-02\n",
            "   -3.0759776e-02  4.0141966e-02]\n",
            "  [-2.2124385e-02  4.2207446e-02  2.6479747e-02  1.9291792e-02\n",
            "   -3.9991725e-02  9.1109164e-03 -7.2978735e-03 -2.9052794e-02\n",
            "   -3.0759776e-02  4.0141966e-02]\n",
            "  [-2.2124385e-02  4.2207446e-02  2.6479747e-02  1.9291792e-02\n",
            "   -3.9991725e-02  9.1109164e-03 -7.2978735e-03 -2.9052794e-02\n",
            "   -3.0759776e-02  4.0141966e-02]\n",
            "  [-2.2124385e-02  4.2207446e-02  2.6479747e-02  1.9291792e-02\n",
            "   -3.9991725e-02  9.1109164e-03 -7.2978735e-03 -2.9052794e-02\n",
            "   -3.0759776e-02  4.0141966e-02]\n",
            "  [-3.7211619e-02 -1.2861550e-02  2.9930104e-02 -3.0446708e-02\n",
            "    4.6413530e-02  6.8475716e-03  3.3115853e-02 -3.3634417e-03\n",
            "    3.2264702e-03 -2.9641449e-02]\n",
            "  [ 1.2465525e-02  2.3122583e-02 -1.1342488e-02 -5.5375807e-03\n",
            "    4.4507716e-02 -1.8458951e-02  1.7923798e-02 -4.2167462e-02\n",
            "    3.1480636e-02  2.1405723e-02]\n",
            "  [-3.4299813e-02  4.8785914e-02  4.9072694e-02  4.8863802e-02\n",
            "   -4.2642333e-02 -4.2322986e-03  8.3772913e-03  4.1842069e-02\n",
            "    1.6680185e-02 -1.3915077e-03]\n",
            "  [ 2.0473544e-02  3.1121150e-03 -2.3073673e-02 -3.1122554e-02\n",
            "    4.8994031e-02  3.9496277e-02  2.8828789e-02 -2.5064481e-02\n",
            "    1.1386536e-02  2.1086559e-03]]\n",
            "\n",
            " [[-2.2124385e-02  4.2207446e-02  2.6479747e-02  1.9291792e-02\n",
            "   -3.9991725e-02  9.1109164e-03 -7.2978735e-03 -2.9052794e-02\n",
            "   -3.0759776e-02  4.0141966e-02]\n",
            "  [-2.2124385e-02  4.2207446e-02  2.6479747e-02  1.9291792e-02\n",
            "   -3.9991725e-02  9.1109164e-03 -7.2978735e-03 -2.9052794e-02\n",
            "   -3.0759776e-02  4.0141966e-02]\n",
            "  [-2.2124385e-02  4.2207446e-02  2.6479747e-02  1.9291792e-02\n",
            "   -3.9991725e-02  9.1109164e-03 -7.2978735e-03 -2.9052794e-02\n",
            "   -3.0759776e-02  4.0141966e-02]\n",
            "  [ 4.6520028e-02  3.3804182e-02 -5.4876208e-03  9.1142170e-03\n",
            "   -2.9183924e-05 -7.6579936e-03 -3.9764725e-02  2.9837657e-02\n",
            "    2.4677899e-02  1.4498245e-02]\n",
            "  [ 4.7580004e-03 -3.3137739e-02 -2.2784460e-02  7.0464239e-03\n",
            "    2.1357525e-02  3.2639455e-02  1.1531699e-02 -4.5563292e-02\n",
            "   -2.2656953e-02  1.3129521e-02]\n",
            "  [ 4.2900506e-02  2.0716015e-02 -1.1556648e-02  2.2272419e-02\n",
            "   -1.3840329e-02 -2.9075034e-03 -3.8241912e-02 -1.2084294e-02\n",
            "   -1.2317523e-03 -8.5770972e-03]\n",
            "  [-4.8447061e-02  1.7659817e-02 -2.3419930e-02  4.6266939e-02\n",
            "    4.8944715e-02  2.6728537e-02 -1.7140485e-02  1.3090912e-02\n",
            "   -1.3886083e-02 -3.4115613e-02]\n",
            "  [-2.8893864e-02 -2.2577370e-02  1.3477687e-02  4.8541341e-02\n",
            "   -1.1076309e-02  3.9976958e-02 -1.9332005e-02 -1.7700803e-02\n",
            "    1.3023987e-03 -1.1094868e-02]]\n",
            "\n",
            " [[-2.2124385e-02  4.2207446e-02  2.6479747e-02  1.9291792e-02\n",
            "   -3.9991725e-02  9.1109164e-03 -7.2978735e-03 -2.9052794e-02\n",
            "   -3.0759776e-02  4.0141966e-02]\n",
            "  [-2.2124385e-02  4.2207446e-02  2.6479747e-02  1.9291792e-02\n",
            "   -3.9991725e-02  9.1109164e-03 -7.2978735e-03 -2.9052794e-02\n",
            "   -3.0759776e-02  4.0141966e-02]\n",
            "  [-2.2124385e-02  4.2207446e-02  2.6479747e-02  1.9291792e-02\n",
            "   -3.9991725e-02  9.1109164e-03 -7.2978735e-03 -2.9052794e-02\n",
            "   -3.0759776e-02  4.0141966e-02]\n",
            "  [ 4.6520028e-02  3.3804182e-02 -5.4876208e-03  9.1142170e-03\n",
            "   -2.9183924e-05 -7.6579936e-03 -3.9764725e-02  2.9837657e-02\n",
            "    2.4677899e-02  1.4498245e-02]\n",
            "  [ 4.7580004e-03 -3.3137739e-02 -2.2784460e-02  7.0464239e-03\n",
            "    2.1357525e-02  3.2639455e-02  1.1531699e-02 -4.5563292e-02\n",
            "   -2.2656953e-02  1.3129521e-02]\n",
            "  [ 4.2900506e-02  2.0716015e-02 -1.1556648e-02  2.2272419e-02\n",
            "   -1.3840329e-02 -2.9075034e-03 -3.8241912e-02 -1.2084294e-02\n",
            "   -1.2317523e-03 -8.5770972e-03]\n",
            "  [-4.8447061e-02  1.7659817e-02 -2.3419930e-02  4.6266939e-02\n",
            "    4.8944715e-02  2.6728537e-02 -1.7140485e-02  1.3090912e-02\n",
            "   -1.3886083e-02 -3.4115613e-02]\n",
            "  [ 2.2887852e-02  2.6970301e-02 -9.8183751e-03  4.7568154e-02\n",
            "    2.4915460e-02  1.7725658e-02 -3.6234330e-02 -3.8796388e-02\n",
            "   -4.7055542e-02 -7.1720481e-03]]\n",
            "\n",
            " [[-2.2124385e-02  4.2207446e-02  2.6479747e-02  1.9291792e-02\n",
            "   -3.9991725e-02  9.1109164e-03 -7.2978735e-03 -2.9052794e-02\n",
            "   -3.0759776e-02  4.0141966e-02]\n",
            "  [-2.2124385e-02  4.2207446e-02  2.6479747e-02  1.9291792e-02\n",
            "   -3.9991725e-02  9.1109164e-03 -7.2978735e-03 -2.9052794e-02\n",
            "   -3.0759776e-02  4.0141966e-02]\n",
            "  [-2.2124385e-02  4.2207446e-02  2.6479747e-02  1.9291792e-02\n",
            "   -3.9991725e-02  9.1109164e-03 -7.2978735e-03 -2.9052794e-02\n",
            "   -3.0759776e-02  4.0141966e-02]\n",
            "  [ 1.4127716e-03  3.0324031e-02  9.7567923e-03 -1.5865386e-02\n",
            "    1.6791295e-02  3.3932928e-02  3.2136690e-02  3.8670663e-02\n",
            "   -3.9130449e-04  1.6763058e-02]\n",
            "  [-3.7211619e-02 -1.2861550e-02  2.9930104e-02 -3.0446708e-02\n",
            "    4.6413530e-02  6.8475716e-03  3.3115853e-02 -3.3634417e-03\n",
            "    3.2264702e-03 -2.9641449e-02]\n",
            "  [ 1.9849811e-02  3.9186444e-02 -5.4119229e-03  4.5485687e-02\n",
            "    1.7438363e-02 -4.8018456e-02  3.4075603e-03  2.2623215e-02\n",
            "    2.8399456e-02  2.0148341e-02]\n",
            "  [-3.4299813e-02  4.8785914e-02  4.9072694e-02  4.8863802e-02\n",
            "   -4.2642333e-02 -4.2322986e-03  8.3772913e-03  4.1842069e-02\n",
            "    1.6680185e-02 -1.3915077e-03]\n",
            "  [-2.2121072e-03 -3.9692927e-02  1.9761745e-02  4.9642075e-02\n",
            "    4.5805089e-03 -4.8316754e-02  3.0543912e-02  8.0885664e-03\n",
            "    4.1841183e-02  4.1878317e-02]]\n",
            "\n",
            " [[-2.2124385e-02  4.2207446e-02  2.6479747e-02  1.9291792e-02\n",
            "   -3.9991725e-02  9.1109164e-03 -7.2978735e-03 -2.9052794e-02\n",
            "   -3.0759776e-02  4.0141966e-02]\n",
            "  [-2.2124385e-02  4.2207446e-02  2.6479747e-02  1.9291792e-02\n",
            "   -3.9991725e-02  9.1109164e-03 -7.2978735e-03 -2.9052794e-02\n",
            "   -3.0759776e-02  4.0141966e-02]\n",
            "  [-2.2124385e-02  4.2207446e-02  2.6479747e-02  1.9291792e-02\n",
            "   -3.9991725e-02  9.1109164e-03 -7.2978735e-03 -2.9052794e-02\n",
            "   -3.0759776e-02  4.0141966e-02]\n",
            "  [-2.2124385e-02  4.2207446e-02  2.6479747e-02  1.9291792e-02\n",
            "   -3.9991725e-02  9.1109164e-03 -7.2978735e-03 -2.9052794e-02\n",
            "   -3.0759776e-02  4.0141966e-02]\n",
            "  [-1.0413900e-03  1.6233448e-02  3.7595894e-02  4.3792579e-02\n",
            "    4.3036249e-02 -8.9218467e-04  2.4221167e-03  4.5828614e-02\n",
            "    1.1675704e-02 -1.4104247e-03]\n",
            "  [-2.9774714e-02  4.0558789e-02  4.8447404e-02 -4.3216672e-02\n",
            "   -2.0884944e-02  1.4291141e-02  1.5293170e-02 -4.7689833e-02\n",
            "   -3.2914877e-02 -1.9415403e-02]\n",
            "  [-2.6631547e-02  4.4961344e-02 -3.9970327e-02 -1.8267654e-02\n",
            "    2.4674539e-02 -3.4019850e-02  2.5496293e-02 -1.7157421e-03\n",
            "    2.0902816e-02 -3.9416768e-02]\n",
            "  [-4.8447061e-02  1.7659817e-02 -2.3419930e-02  4.6266939e-02\n",
            "    4.8944715e-02  2.6728537e-02 -1.7140485e-02  1.3090912e-02\n",
            "   -1.3886083e-02 -3.4115613e-02]]]\n"
          ],
          "name": "stdout"
        }
      ]
    },
    {
      "cell_type": "code",
      "metadata": {
        "colab": {
          "base_uri": "https://localhost:8080/"
        },
        "id": "f-xDak1pPl_1",
        "outputId": "978d1068-07ec-4201-e73a-9408f00991c0"
      },
      "source": [
        "embedded_docs[0]"
      ],
      "execution_count": 17,
      "outputs": [
        {
          "output_type": "execute_result",
          "data": {
            "text/plain": [
              "array([   0,    0,    0,    0, 3074, 7181, 2635, 2984], dtype=int32)"
            ]
          },
          "metadata": {
            "tags": []
          },
          "execution_count": 17
        }
      ]
    },
    {
      "cell_type": "code",
      "metadata": {
        "colab": {
          "base_uri": "https://localhost:8080/"
        },
        "id": "AdKH0Z4nPtkn",
        "outputId": "d5453c11-6d41-4bff-be40-a1b6d1ab5f43"
      },
      "source": [
        "print(model.predict(embedded_docs)[0])\n"
      ],
      "execution_count": 18,
      "outputs": [
        {
          "output_type": "stream",
          "text": [
            "[[-0.02212439  0.04220745  0.02647975  0.01929179 -0.03999173  0.00911092\n",
            "  -0.00729787 -0.02905279 -0.03075978  0.04014197]\n",
            " [-0.02212439  0.04220745  0.02647975  0.01929179 -0.03999173  0.00911092\n",
            "  -0.00729787 -0.02905279 -0.03075978  0.04014197]\n",
            " [-0.02212439  0.04220745  0.02647975  0.01929179 -0.03999173  0.00911092\n",
            "  -0.00729787 -0.02905279 -0.03075978  0.04014197]\n",
            " [-0.02212439  0.04220745  0.02647975  0.01929179 -0.03999173  0.00911092\n",
            "  -0.00729787 -0.02905279 -0.03075978  0.04014197]\n",
            " [-0.03721162 -0.01286155  0.0299301  -0.03044671  0.04641353  0.00684757\n",
            "   0.03311585 -0.00336344  0.00322647 -0.02964145]\n",
            " [-0.0148119   0.02920255 -0.01664746 -0.02414095  0.04315687 -0.01529701\n",
            "   0.02915904  0.02465453  0.04960615  0.02741751]\n",
            " [-0.03429981  0.04878591  0.04907269  0.0488638  -0.04264233 -0.0042323\n",
            "   0.00837729  0.04184207  0.01668018 -0.00139151]\n",
            " [ 0.0106496  -0.04562009 -0.00667486  0.04019758  0.03276518 -0.03056874\n",
            "  -0.0385064   0.03025753  0.02594397  0.00226688]]\n"
          ],
          "name": "stdout"
        }
      ]
    },
    {
      "cell_type": "code",
      "metadata": {
        "id": "XzFM5pkWPxus"
      },
      "source": [
        ""
      ],
      "execution_count": null,
      "outputs": []
    }
  ]
}